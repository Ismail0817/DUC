{
 "cells": [
  {
   "cell_type": "code",
   "execution_count": null,
   "metadata": {},
   "outputs": [],
   "source": [
    "# client.py\n",
    "import socket\n",
    "import time\n",
    "\n",
    "def send_data(host, port):\n",
    "    client_socket = socket.socket(socket.AF_INET, socket.SOCK_STREAM)\n",
    "\n",
    "    try:\n",
    "        client_socket.connect((host, port))\n",
    "        print(f\"Connected to server at {host}:{port}\")\n",
    "\n",
    "        counter = 1\n",
    "        while True:\n",
    "            data_to_send = f\"Data from client: {counter}\"\n",
    "            client_socket.sendall(data_to_send.encode('utf-8'))\n",
    "            print(f\"Sent: {data_to_send}\")\n",
    "\n",
    "            time.sleep(2)\n",
    "            counter += 1\n",
    "\n",
    "    except Exception as e:\n",
    "        print(f\"Error: {e}\")\n",
    "    finally:\n",
    "        client_socket.close()\n",
    "\n",
    "if __name__ == \"__main__\":\n",
    "    server_host = \"127.0.0.1\"  # Change this to the server's host\n",
    "    server_port = 12345         # Change this to the server's port\n",
    "    send_data(server_host, server_port)\n"
   ]
  },
  {
   "cell_type": "code",
   "execution_count": null,
   "metadata": {},
   "outputs": [],
   "source": [
    "from negotiator import Negotiator\n",
    "from orchestrator import Orchestrator\n",
    "from data_handler import DataHandler\n",
    "from deploy_req import Deploy"
   ]
  },
  {
   "cell_type": "code",
   "execution_count": null,
   "metadata": {},
   "outputs": [],
   "source": [
    "negotiator = Negotiator()\n",
    "orchestrator = Orchestrator()\n",
    "data_handler = DataHandler()\n",
    "deploy = Deploy()"
   ]
  },
  {
   "cell_type": "code",
   "execution_count": null,
   "metadata": {},
   "outputs": [],
   "source": [
    "deploy.deploy_pods()\n",
    "negotiator.check_resources()\n",
    "orchestrator.orchestrate_pods()\n",
    "# data_handler.pass_data()"
   ]
  },
  {
   "cell_type": "code",
   "execution_count": 118,
   "metadata": {},
   "outputs": [
    {
     "name": "stdout",
     "output_type": "stream",
     "text": [
      "orchestration in fog successful\n"
     ]
    }
   ],
   "source": [
    "\n",
    "import requests\n",
    "response_from_middleware = requests.post(\"http://localhost:5002/api_edge\", json={\"function\": \"deploy_in_fog\", \"name\": \"process1\"})\n",
    "print(response_from_middleware.json()[\"result_negotiate\"])"
   ]
  },
  {
   "cell_type": "code",
   "execution_count": 24,
   "metadata": {},
   "outputs": [
    {
     "name": "stdout",
     "output_type": "stream",
     "text": [
      "got orchestration req\n"
     ]
    }
   ],
   "source": [
    "import requests\n",
    "response_from_middleware = requests.post(\"http://localhost:5000/api_fog\", json={\"function\": \"orchestrate\", \"name\": \"process1\"})\n",
    "print(response_from_middleware.json()[\"result\"])"
   ]
  },
  {
   "cell_type": "code",
   "execution_count": 119,
   "metadata": {},
   "outputs": [
    {
     "name": "stdout",
     "output_type": "stream",
     "text": [
      "edge middleware socket opened on 127.0.0.1:17445 \n"
     ]
    }
   ],
   "source": [
    "import requests\n",
    "response_from_middleware = requests.post(\"http://localhost:5002/api_edge\", json={\"function\": \"open_socket\", \"name\": \"process1\"})\n",
    "print(response_from_middleware.json()[\"result\"])\n",
    "host = response_from_middleware.json()[\"host\"]\n",
    "port = response_from_middleware.json()[\"port\"]"
   ]
  },
  {
   "cell_type": "code",
   "execution_count": 120,
   "metadata": {},
   "outputs": [
    {
     "name": "stdout",
     "output_type": "stream",
     "text": [
      "Connected to middleware at 127.0.0.1:17445\n",
      "Sent: Data: 1\n",
      "Sent: Data: 2\n",
      "Sent: Data: 3\n",
      "Sent: Data: 4\n",
      "Sent: Data: 5\n"
     ]
    }
   ],
   "source": [
    "# client.py\n",
    "import socket\n",
    "import time\n",
    "\n",
    "def send_data(host, port):\n",
    "    client_socket = socket.socket(socket.AF_INET, socket.SOCK_STREAM)\n",
    "\n",
    "    try:\n",
    "        client_socket.connect((host, port))\n",
    "        print(f\"Connected to middleware at {host}:{port}\")\n",
    "\n",
    "        counter = 1\n",
    "        while counter < 6:\n",
    "            data_to_send = f\"Data: {counter}\"\n",
    "            client_socket.sendall(data_to_send.encode('utf-8'))\n",
    "            print(f\"Sent: {data_to_send}\")\n",
    "\n",
    "            time.sleep(2)\n",
    "            counter += 1\n",
    "\n",
    "    except Exception as e:\n",
    "        print(f\"Error: {e}\")\n",
    "    finally:\n",
    "        client_socket.close()\n",
    "\n",
    "if __name__ == \"__main__\":\n",
    "    server_host = host  \n",
    "    server_port = port         \n",
    "    send_data(server_host, server_port)\n"
   ]
  },
  {
   "cell_type": "code",
   "execution_count": 113,
   "metadata": {},
   "outputs": [
    {
     "name": "stdout",
     "output_type": "stream",
     "text": [
      "orchestration in cloud successful\n",
      "fog middleware socket opened on 127.0.0.1:12345 \n",
      "Connected to middleware at 127.0.0.1:12345\n",
      "Sent: Data: 1\n",
      "Sent: Data: 2\n",
      "Sent: Data: 3\n",
      "Sent: Data: 4\n",
      "Sent: Data: 5\n"
     ]
    }
   ],
   "source": [
    "import requests\n",
    "\n",
    "# negotiation and orchetration\n",
    "response_from_middleware = requests.post(\"http://localhost:5000/api_fog\", json={\"function\": \"deploy_in_cloud\", \"name\": \"process1\"})\n",
    "print(response_from_middleware.json()[\"result_negotiate\"])\n",
    "\n",
    "# socket open\n",
    "response_from_middleware = requests.post(\"http://localhost:5000/api_fog\", json={\"function\": \"open_socket\", \"name\": \"process1\"})\n",
    "print(response_from_middleware.json()[\"result\"])\n",
    "host = response_from_middleware.json()[\"host\"]\n",
    "port = response_from_middleware.json()[\"port\"]\n",
    "\n",
    "# send data\n",
    "import socket\n",
    "import time\n",
    "\n",
    "def send_data(host, port):\n",
    "    client_socket = socket.socket(socket.AF_INET, socket.SOCK_STREAM)\n",
    "\n",
    "    try:\n",
    "        client_socket.connect((host, port))\n",
    "        print(f\"Connected to middleware at {host}:{port}\")\n",
    "\n",
    "        counter = 1\n",
    "        while counter < 6:\n",
    "            data_to_send = f\"Data: {counter}\"\n",
    "            client_socket.sendall(data_to_send.encode('utf-8'))\n",
    "            print(f\"Sent: {data_to_send}\")\n",
    "\n",
    "            time.sleep(2)\n",
    "            counter += 1\n",
    "\n",
    "    except Exception as e:\n",
    "        print(f\"Error: {e}\")\n",
    "    finally:\n",
    "        client_socket.close()\n",
    "\n",
    "if __name__ == \"__main__\":\n",
    "    server_host = host  \n",
    "    server_port = port         \n",
    "    send_data(server_host, server_port)"
   ]
  }
 ],
 "metadata": {
  "kernelspec": {
   "display_name": "Python 3.10.7 64-bit",
   "language": "python",
   "name": "python3"
  },
  "language_info": {
   "codemirror_mode": {
    "name": "ipython",
    "version": 3
   },
   "file_extension": ".py",
   "mimetype": "text/x-python",
   "name": "python",
   "nbconvert_exporter": "python",
   "pygments_lexer": "ipython3",
   "version": "3.10.7"
  },
  "orig_nbformat": 4,
  "vscode": {
   "interpreter": {
    "hash": "aee8b7b246df8f9039afb4144a1f6fd8d2ca17a180786b69acc140d282b71a49"
   }
  }
 },
 "nbformat": 4,
 "nbformat_minor": 2
}
