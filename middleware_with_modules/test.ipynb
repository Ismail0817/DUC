{
 "cells": [
  {
   "cell_type": "code",
   "execution_count": null,
   "metadata": {},
   "outputs": [],
   "source": [
    "# client.py\n",
    "import socket\n",
    "import time\n",
    "\n",
    "def send_data(host, port):\n",
    "    client_socket = socket.socket(socket.AF_INET, socket.SOCK_STREAM)\n",
    "\n",
    "    try:\n",
    "        client_socket.connect((host, port))\n",
    "        print(f\"Connected to server at {host}:{port}\")\n",
    "\n",
    "        counter = 1\n",
    "        while True:\n",
    "            data_to_send = f\"Data from client: {counter}\"\n",
    "            client_socket.sendall(data_to_send.encode('utf-8'))\n",
    "            print(f\"Sent: {data_to_send}\")\n",
    "\n",
    "            time.sleep(2)\n",
    "            counter += 1\n",
    "\n",
    "    except Exception as e:\n",
    "        print(f\"Error: {e}\")\n",
    "    finally:\n",
    "        client_socket.close()\n",
    "\n",
    "if __name__ == \"__main__\":\n",
    "    server_host = \"127.0.0.1\"  # Change this to the server's host\n",
    "    server_port = 12345         # Change this to the server's port\n",
    "    send_data(server_host, server_port)\n"
   ]
  },
  {
   "cell_type": "code",
   "execution_count": null,
   "metadata": {},
   "outputs": [],
   "source": [
    "from negotiator import Negotiator\n",
    "from orchestrator import Orchestrator\n",
    "from data_handler import DataHandler\n",
    "from deploy_req import Deploy"
   ]
  },
  {
   "cell_type": "code",
   "execution_count": null,
   "metadata": {},
   "outputs": [],
   "source": [
    "negotiator = Negotiator()\n",
    "orchestrator = Orchestrator()\n",
    "data_handler = DataHandler()\n",
    "deploy = Deploy()"
   ]
  },
  {
   "cell_type": "code",
   "execution_count": null,
   "metadata": {},
   "outputs": [],
   "source": [
    "deploy.deploy_pods()\n",
    "negotiator.check_resources()\n",
    "orchestrator.orchestrate_pods()\n",
    "# data_handler.pass_data()"
   ]
  },
  {
   "cell_type": "code",
   "execution_count": 1,
   "metadata": {},
   "outputs": [
    {
     "name": "stdout",
     "output_type": "stream",
     "text": [
      "got negotiation req\n"
     ]
    }
   ],
   "source": [
    "\n",
    "import requests\n",
    "response_from_middleware = requests.post(\"http://localhost:5000/api\", json={\"function\": \"negotiate\", \"name\": \"process1\"})\n",
    "print(response_from_middleware.json()[\"result\"])"
   ]
  },
  {
   "cell_type": "code",
   "execution_count": 7,
   "metadata": {},
   "outputs": [
    {
     "name": "stdout",
     "output_type": "stream",
     "text": [
      "got orchestration req\n"
     ]
    }
   ],
   "source": [
    "import requests\n",
    "response_from_middleware = requests.post(\"http://localhost:5000/api\", json={\"function\": \"orchestrate\", \"name\": \"process1\"})\n",
    "print(response_from_middleware.json()[\"result\"])"
   ]
  },
  {
   "cell_type": "code",
   "execution_count": 5,
   "metadata": {},
   "outputs": [
    {
     "name": "stdout",
     "output_type": "stream",
     "text": [
      "socket opened on 127.0.0.1:12345 \n"
     ]
    }
   ],
   "source": [
    "import requests\n",
    "response_from_middleware = requests.post(\"http://localhost:5000/api\", json={\"function\": \"open_socket\", \"name\": \"process1\"})\n",
    "print(response_from_middleware.json()[\"result\"])\n",
    "host = response_from_middleware.json()[\"host\"]\n",
    "port = response_from_middleware.json()[\"port\"]"
   ]
  },
  {
   "cell_type": "code",
   "execution_count": 6,
   "metadata": {},
   "outputs": [
    {
     "name": "stdout",
     "output_type": "stream",
     "text": [
      "Connected to server at 127.0.0.1:12345\n",
      "Sent: Data from client: 1\n",
      "Sent: Data from client: 2\n",
      "Sent: Data from client: 3\n",
      "Sent: Data from client: 4\n",
      "Sent: Data from client: 5\n",
      "Sent: Data from client: 6\n",
      "Sent: Data from client: 7\n",
      "Sent: Data from client: 8\n",
      "Sent: Data from client: 9\n",
      "Sent: Data from client: 10\n",
      "Sent: Data from client: 11\n",
      "Sent: Data from client: 12\n"
     ]
    },
    {
     "ename": "KeyboardInterrupt",
     "evalue": "",
     "output_type": "error",
     "traceback": [
      "\u001b[0;31m---------------------------------------------------------------------------\u001b[0m",
      "\u001b[0;31mKeyboardInterrupt\u001b[0m                         Traceback (most recent call last)",
      "Cell \u001b[0;32mIn [6], line 29\u001b[0m\n\u001b[1;32m     27\u001b[0m server_host \u001b[38;5;241m=\u001b[39m host  \n\u001b[1;32m     28\u001b[0m server_port \u001b[38;5;241m=\u001b[39m port         \n\u001b[0;32m---> 29\u001b[0m \u001b[43msend_data\u001b[49m\u001b[43m(\u001b[49m\u001b[43mserver_host\u001b[49m\u001b[43m,\u001b[49m\u001b[43m \u001b[49m\u001b[43mserver_port\u001b[49m\u001b[43m)\u001b[49m\n",
      "Cell \u001b[0;32mIn [6], line 18\u001b[0m, in \u001b[0;36msend_data\u001b[0;34m(host, port)\u001b[0m\n\u001b[1;32m     15\u001b[0m         client_socket\u001b[38;5;241m.\u001b[39msendall(data_to_send\u001b[38;5;241m.\u001b[39mencode(\u001b[38;5;124m'\u001b[39m\u001b[38;5;124mutf-8\u001b[39m\u001b[38;5;124m'\u001b[39m))\n\u001b[1;32m     16\u001b[0m         \u001b[38;5;28mprint\u001b[39m(\u001b[38;5;124mf\u001b[39m\u001b[38;5;124m\"\u001b[39m\u001b[38;5;124mSent: \u001b[39m\u001b[38;5;132;01m{\u001b[39;00mdata_to_send\u001b[38;5;132;01m}\u001b[39;00m\u001b[38;5;124m\"\u001b[39m)\n\u001b[0;32m---> 18\u001b[0m         \u001b[43mtime\u001b[49m\u001b[38;5;241;43m.\u001b[39;49m\u001b[43msleep\u001b[49m\u001b[43m(\u001b[49m\u001b[38;5;241;43m2\u001b[39;49m\u001b[43m)\u001b[49m\n\u001b[1;32m     19\u001b[0m         counter \u001b[38;5;241m+\u001b[39m\u001b[38;5;241m=\u001b[39m \u001b[38;5;241m1\u001b[39m\n\u001b[1;32m     21\u001b[0m \u001b[38;5;28;01mexcept\u001b[39;00m \u001b[38;5;167;01mException\u001b[39;00m \u001b[38;5;28;01mas\u001b[39;00m e:\n",
      "\u001b[0;31mKeyboardInterrupt\u001b[0m: "
     ]
    }
   ],
   "source": [
    "# client.py\n",
    "import socket\n",
    "import time\n",
    "\n",
    "def send_data(host, port):\n",
    "    client_socket = socket.socket(socket.AF_INET, socket.SOCK_STREAM)\n",
    "\n",
    "    try:\n",
    "        client_socket.connect((host, port))\n",
    "        print(f\"Connected to server at {host}:{port}\")\n",
    "\n",
    "        counter = 1\n",
    "        while True:\n",
    "            data_to_send = f\"Data from client: {counter}\"\n",
    "            client_socket.sendall(data_to_send.encode('utf-8'))\n",
    "            print(f\"Sent: {data_to_send}\")\n",
    "\n",
    "            time.sleep(2)\n",
    "            counter += 1\n",
    "\n",
    "    except Exception as e:\n",
    "        print(f\"Error: {e}\")\n",
    "    finally:\n",
    "        client_socket.close()\n",
    "\n",
    "if __name__ == \"__main__\":\n",
    "    server_host = host  \n",
    "    server_port = port         \n",
    "    send_data(server_host, server_port)\n"
   ]
  }
 ],
 "metadata": {
  "kernelspec": {
   "display_name": "Python 3.10.7 64-bit",
   "language": "python",
   "name": "python3"
  },
  "language_info": {
   "codemirror_mode": {
    "name": "ipython",
    "version": 3
   },
   "file_extension": ".py",
   "mimetype": "text/x-python",
   "name": "python",
   "nbconvert_exporter": "python",
   "pygments_lexer": "ipython3",
   "version": "3.10.7"
  },
  "orig_nbformat": 4,
  "vscode": {
   "interpreter": {
    "hash": "aee8b7b246df8f9039afb4144a1f6fd8d2ca17a180786b69acc140d282b71a49"
   }
  }
 },
 "nbformat": 4,
 "nbformat_minor": 2
}
