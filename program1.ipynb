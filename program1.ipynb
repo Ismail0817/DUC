{
 "cells": [
  {
   "cell_type": "code",
   "execution_count": 4,
   "metadata": {},
   "outputs": [
    {
     "name": "stdout",
     "output_type": "stream",
     "text": [
      "Final Output: Processed by Program 2: Processed by Program 1: Hello, World!\n"
     ]
    }
   ],
   "source": [
    "# program1.py\n",
    "import requests\n",
    "\n",
    "def perform_work_on_data_1(data):\n",
    "    # Your logic to process data in Program 1\n",
    "    # For example, let's assume it just adds a prefix\n",
    "    return f\"Processed by Program 1: {data}\"\n",
    "\n",
    "# Assuming you have some data to start with\n",
    "initial_data = \"Hello, World!\"\n",
    "\n",
    "# Step 1: Perform some work on the data\n",
    "processed_data_1 = perform_work_on_data_1(initial_data)\n",
    "\n",
    "# Step 2: Send the processed data to the middleware\n",
    "response = requests.post(\"http://localhost:5000/process_data\", json={\"data\": processed_data_1})\n",
    "\n",
    "# Step 4: Display the final output\n",
    "print(\"Final Output:\", response.json()[\"result\"])\n"
   ]
  }
 ],
 "metadata": {
  "kernelspec": {
   "display_name": "Python 3.10.7 64-bit",
   "language": "python",
   "name": "python3"
  },
  "language_info": {
   "codemirror_mode": {
    "name": "ipython",
    "version": 3
   },
   "file_extension": ".py",
   "mimetype": "text/x-python",
   "name": "python",
   "nbconvert_exporter": "python",
   "pygments_lexer": "ipython3",
   "version": "3.10.7"
  },
  "orig_nbformat": 4,
  "vscode": {
   "interpreter": {
    "hash": "aee8b7b246df8f9039afb4144a1f6fd8d2ca17a180786b69acc140d282b71a49"
   }
  }
 },
 "nbformat": 4,
 "nbformat_minor": 2
}
