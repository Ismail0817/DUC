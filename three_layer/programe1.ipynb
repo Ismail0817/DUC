{
 "cells": [
  {
   "cell_type": "code",
   "execution_count": 1,
   "metadata": {},
   "outputs": [
    {
     "name": "stdout",
     "output_type": "stream",
     "text": [
      "Final Output from Middleware: Processed by Program 3: Processed by Program 2: PROCESSED BY PROGRAM 1: HELLO, WORLD!\n"
     ]
    }
   ],
   "source": [
    "import requests\n",
    "\n",
    "def perform_work_on_edge(data):\n",
    "    # Your logic to process data in Edge\n",
    "    return f\"Processed by Edge: {data}\"\n",
    "\n",
    "# initial data\n",
    "initial_data = \"Hello, World!\"\n",
    "\n",
    "# Perform some computation on the data\n",
    "processed_data_edge = perform_work_on_edge(initial_data)\n",
    "\n",
    "# Send the processed data to the middleware\n",
    "response_from_middleware = requests.post(\"http://localhost:5000/process_data\", json={\"data\": processed_data_edge})\n",
    "\n",
    "# Display the final output from the middleware\n",
    "result_from_middleware = response_from_middleware.json()[\"result\"]\n",
    "print(\"Final Output from Middleware:\", result_from_middleware)\n"
   ]
  }
 ],
 "metadata": {
  "kernelspec": {
   "display_name": "Python 3.10.7 64-bit",
   "language": "python",
   "name": "python3"
  },
  "language_info": {
   "codemirror_mode": {
    "name": "ipython",
    "version": 3
   },
   "file_extension": ".py",
   "mimetype": "text/x-python",
   "name": "python",
   "nbconvert_exporter": "python",
   "pygments_lexer": "ipython3",
   "version": "3.10.7"
  },
  "orig_nbformat": 4,
  "vscode": {
   "interpreter": {
    "hash": "aee8b7b246df8f9039afb4144a1f6fd8d2ca17a180786b69acc140d282b71a49"
   }
  }
 },
 "nbformat": 4,
 "nbformat_minor": 2
}
